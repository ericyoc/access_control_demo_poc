{
  "nbformat": 4,
  "nbformat_minor": 0,
  "metadata": {
    "colab": {
      "provenance": [],
      "authorship_tag": "ABX9TyOxYns8UoprwshQ1pNkfvIH",
      "include_colab_link": true
    },
    "kernelspec": {
      "name": "python3",
      "display_name": "Python 3"
    },
    "language_info": {
      "name": "python"
    }
  },
  "cells": [
    {
      "cell_type": "markdown",
      "metadata": {
        "id": "view-in-github",
        "colab_type": "text"
      },
      "source": [
        "<a href=\"https://colab.research.google.com/github/ericyoc/access_control_demo_poc/blob/main/access_control_demo_poc.ipynb\" target=\"_parent\"><img src=\"https://colab.research.google.com/assets/colab-badge.svg\" alt=\"Open In Colab\"/></a>"
      ]
    },
    {
      "cell_type": "code",
      "execution_count": 1,
      "metadata": {
        "id": "bg85dwFHOyJO"
      },
      "outputs": [],
      "source": [
        "#!pip install prettytable matplotlib networkx"
      ]
    },
    {
      "cell_type": "code",
      "source": [
        "import os\n",
        "from prettytable import PrettyTable\n",
        "import textwrap\n",
        "import matplotlib.pyplot as plt\n",
        "import networkx as nx\n",
        "from matplotlib.patches import Rectangle"
      ],
      "metadata": {
        "id": "khKcY7_xO7Xr"
      },
      "execution_count": 2,
      "outputs": []
    },
    {
      "cell_type": "code",
      "source": [
        "# 1. Access Control Matrix\n",
        "def access_control_matrix():\n",
        "    matrix = {\n",
        "        'alice': {'file1': 'rw', 'file2': 'r', 'file3': '-'},\n",
        "        'bob': {'file1': 'r', 'file2': 'rw', 'file3': 'r'},\n",
        "        'eve': {'file1': '-', 'file2': '-', 'file3': '-'}\n",
        "    }\n",
        "\n",
        "    results = []\n",
        "    for user in ['alice', 'bob', 'eve']:\n",
        "        file = 'file2'\n",
        "        if 'r' in matrix[user][file]:\n",
        "            results.append(f\"{user.capitalize()} can read {file}\")\n",
        "        else:\n",
        "            results.append(f\"{user.capitalize()} cannot read {file}\")\n",
        "\n",
        "    return \"; \".join(results)"
      ],
      "metadata": {
        "id": "Ad8dny4WPNKM"
      },
      "execution_count": 3,
      "outputs": []
    },
    {
      "cell_type": "code",
      "source": [
        "# 2. Linux Access Control\n",
        "def linux_access_control():\n",
        "    file_permissions = 0o644  # rw-r--r--\n",
        "\n",
        "    results = []\n",
        "    for user in ['alice', 'bob', 'eve']:\n",
        "        if user == 'alice':\n",
        "            user_type = 'owner'\n",
        "        elif user == 'bob':\n",
        "            user_type = 'group'\n",
        "        else:\n",
        "            user_type = 'others'\n",
        "\n",
        "        action = 'write'\n",
        "\n",
        "        if user_type == 'owner':\n",
        "            mask = 0o200\n",
        "        elif user_type == 'group':\n",
        "            mask = 0o020\n",
        "        else:\n",
        "            mask = 0o002\n",
        "\n",
        "        if file_permissions & mask:\n",
        "            results.append(f\"{user.capitalize()} can {action} the file\")\n",
        "        else:\n",
        "            results.append(f\"{user.capitalize()} cannot {action} the file\")\n",
        "\n",
        "    return \"; \".join(results)"
      ],
      "metadata": {
        "id": "9HGYp2EGPRuT"
      },
      "execution_count": 4,
      "outputs": []
    },
    {
      "cell_type": "code",
      "source": [
        "# 3. Principle of Least Privilege\n",
        "def principle_of_least_privilege():\n",
        "    user_roles = {\n",
        "        'alice': ['read', 'write', 'execute', 'delete'],\n",
        "        'bob': ['read', 'write'],\n",
        "        'eve': ['read']\n",
        "    }\n",
        "\n",
        "    results = []\n",
        "    for user in ['alice', 'bob', 'eve']:\n",
        "        action = 'write'\n",
        "        if action in user_roles[user]:\n",
        "            results.append(f\"{user.capitalize()} can perform {action} action\")\n",
        "        else:\n",
        "            results.append(f\"{user.capitalize()} cannot perform {action} action (least privilege)\")\n",
        "\n",
        "    return \"; \".join(results)"
      ],
      "metadata": {
        "id": "XJkpYZdWPUyx"
      },
      "execution_count": 5,
      "outputs": []
    },
    {
      "cell_type": "code",
      "source": [
        "# 4. Sandboxing\n",
        "def sandboxing():\n",
        "    def restricted_function(user):\n",
        "        # Simulating a restricted environment\n",
        "        allowed_modules = ['math', 'random']\n",
        "\n",
        "        try:\n",
        "            import os\n",
        "            return f\"{user.capitalize()}: Sandboxing failed: Restricted module 'os' was imported\"\n",
        "        except ImportError:\n",
        "            return f\"{user.capitalize()}: Sandboxing successful: Restricted module 'os' was blocked\"\n",
        "\n",
        "    return \"; \".join([restricted_function(user) for user in ['alice', 'bob', 'eve']])"
      ],
      "metadata": {
        "id": "Ll3w7WerPXkH"
      },
      "execution_count": 6,
      "outputs": []
    },
    {
      "cell_type": "code",
      "source": [
        "# 5. Role-Based Access Control (RBAC)\n",
        "def role_based_access_control():\n",
        "    roles = {\n",
        "        'admin': ['create_user', 'delete_user', 'read_logs'],\n",
        "        'manager': ['read_logs', 'generate_report'],\n",
        "        'employee': ['generate_report']\n",
        "    }\n",
        "\n",
        "    user_roles = {'alice': 'admin', 'bob': 'manager', 'eve': 'employee'}\n",
        "    action = 'read_logs'\n",
        "\n",
        "    results = []\n",
        "    for user in ['alice', 'bob', 'eve']:\n",
        "        if action in roles[user_roles[user]]:\n",
        "            results.append(f\"{user.capitalize()} (role: {user_roles[user]}) can perform '{action}'\")\n",
        "        else:\n",
        "            results.append(f\"{user.capitalize()} (role: {user_roles[user]}) cannot perform '{action}'\")\n",
        "\n",
        "    return \"; \".join(results)"
      ],
      "metadata": {
        "id": "bANTudhwPaVo"
      },
      "execution_count": 7,
      "outputs": []
    },
    {
      "cell_type": "code",
      "source": [
        "# 6. Attribute-Based Access Control (ABAC)\n",
        "def attribute_based_access_control():\n",
        "    users = {\n",
        "        'alice': {'department': 'IT', 'clearance_level': 3},\n",
        "        'bob': {'department': 'HR', 'clearance_level': 2},\n",
        "        'eve': {'department': 'Marketing', 'clearance_level': 1}\n",
        "    }\n",
        "\n",
        "    resource = {\n",
        "        'name': 'Financial Database',\n",
        "        'department': 'IT',\n",
        "        'required_clearance': 2\n",
        "    }\n",
        "\n",
        "    results = []\n",
        "    for user, attributes in users.items():\n",
        "        if (attributes['department'] == resource['department'] and\n",
        "            attributes['clearance_level'] >= resource['required_clearance']):\n",
        "            results.append(f\"{user.capitalize()} can access {resource['name']}\")\n",
        "        else:\n",
        "            results.append(f\"{user.capitalize()} cannot access {resource['name']}\")\n",
        "\n",
        "    return \"; \".join(results)"
      ],
      "metadata": {
        "id": "q7JCm1VAPdRD"
      },
      "execution_count": 8,
      "outputs": []
    },
    {
      "cell_type": "code",
      "source": [
        "def get_explanation(concept):\n",
        "    explanations = {\n",
        "        \"Access Control Matrix\": \"Defines access rights for subjects (users) to objects (files)\",\n",
        "        \"Linux Access Control\": \"Uses file permissions to control read/write/execute access\",\n",
        "        \"Principle of Least Privilege\": \"Users are given minimum levels of access needed for their tasks\",\n",
        "        \"Sandboxing\": \"Restricts the environment in which certain code can run\",\n",
        "        \"Role-Based Access Control\": \"Access decisions are based on roles that users have\",\n",
        "        \"Attribute-Based Access Control\": \"Access decisions based on attributes of users, resources, and environment\"\n",
        "    }\n",
        "    return explanations[concept]"
      ],
      "metadata": {
        "id": "AeIq228MP6x6"
      },
      "execution_count": 9,
      "outputs": []
    },
    {
      "cell_type": "code",
      "source": [
        "def get_principle(concept):\n",
        "    principles = {\n",
        "        \"Access Control Matrix\": \"Separation of privilege\",\n",
        "        \"Linux Access Control\": \"Simplicity and uniformity\",\n",
        "        \"Principle of Least Privilege\": \"Minimize potential damage\",\n",
        "        \"Sandboxing\": \"Isolation and containment\",\n",
        "        \"Role-Based Access Control\": \"Simplify administration\",\n",
        "        \"Attribute-Based Access Control\": \"Fine-grained access control\"\n",
        "    }\n",
        "    return principles[concept]"
      ],
      "metadata": {
        "id": "Q3Y8j8bAP_73"
      },
      "execution_count": 10,
      "outputs": []
    },
    {
      "cell_type": "code",
      "source": [
        "def plot_access_control_matrix():\n",
        "    matrix = {\n",
        "        'alice': {'file1': 'rw', 'file2': 'r', 'file3': '-'},\n",
        "        'bob': {'file1': 'r', 'file2': 'rw', 'file3': 'r'},\n",
        "        'eve': {'file1': '-', 'file2': '-', 'file3': '-'}\n",
        "    }\n",
        "\n",
        "    fig, ax = plt.subplots(figsize=(10, 6))\n",
        "    users = list(matrix.keys())\n",
        "    files = list(matrix['alice'].keys())\n",
        "\n",
        "    for i, user in enumerate(users):\n",
        "        for j, file in enumerate(files):\n",
        "            color = 'lightgreen' if matrix[user][file] != '-' else 'lightgray'\n",
        "            ax.add_patch(Rectangle((j, i), 0.8, 0.8, fill=True, color=color))\n",
        "            ax.text(j+0.4, i+0.4, matrix[user][file], ha='center', va='center')\n",
        "\n",
        "    ax.set_xlim(-0.2, len(files)-0.2)\n",
        "    ax.set_ylim(-0.2, len(users)-0.2)\n",
        "    ax.set_xticks(range(len(files)))\n",
        "    ax.set_yticks(range(len(users)))\n",
        "    ax.set_xticklabels(files)\n",
        "    ax.set_yticklabels(users)\n",
        "    ax.set_title(\"Access Control Matrix\")\n",
        "    plt.tight_layout()\n",
        "    save_plot(fig, \"access_control_matrix.png\")"
      ],
      "metadata": {
        "id": "6gin3MaCQyhv"
      },
      "execution_count": 11,
      "outputs": []
    },
    {
      "cell_type": "code",
      "source": [
        "def plot_linux_access_control():\n",
        "    permissions = {\n",
        "        'owner': {'read': True, 'write': True, 'execute': False},\n",
        "        'group': {'read': True, 'write': False, 'execute': False},\n",
        "        'others': {'read': True, 'write': False, 'execute': False}\n",
        "    }\n",
        "\n",
        "    fig, ax = plt.subplots(figsize=(10, 6))\n",
        "    y_positions = range(len(permissions))\n",
        "    ax.set_yticks(y_positions)\n",
        "    ax.set_yticklabels(permissions.keys())\n",
        "\n",
        "    for i, (user_type, perms) in enumerate(permissions.items()):\n",
        "        for j, (perm, allowed) in enumerate(perms.items()):\n",
        "            color = 'green' if allowed else 'red'\n",
        "            ax.add_patch(Rectangle((j, i-0.4), 0.8, 0.8, fill=True, color=color))\n",
        "            ax.text(j+0.4, i, perm[0].upper(), ha='center', va='center')\n",
        "\n",
        "    ax.set_xlim(-0.5, 2.5)\n",
        "    ax.set_ylim(-0.5, 2.5)\n",
        "    ax.set_title(\"Linux Access Control (File Permissions)\")\n",
        "    ax.set_xlabel(\"Permissions (Read, Write, Execute)\")\n",
        "    plt.tight_layout()\n",
        "    save_plot(fig, \"linux_access_control.png\")"
      ],
      "metadata": {
        "id": "eFtDn9NsQzWo"
      },
      "execution_count": 12,
      "outputs": []
    },
    {
      "cell_type": "code",
      "source": [
        "def plot_principle_of_least_privilege():\n",
        "    privileges = {\n",
        "        'admin': ['read', 'write', 'execute', 'delete'],\n",
        "        'developer': ['read', 'write', 'execute'],\n",
        "        'user': ['read']\n",
        "    }\n",
        "\n",
        "    fig, ax = plt.subplots(figsize=(10, 6))\n",
        "    y_positions = range(len(privileges))\n",
        "    ax.set_yticks(y_positions)\n",
        "    ax.set_yticklabels(privileges.keys())\n",
        "\n",
        "    for i, (role, privs) in enumerate(privileges.items()):\n",
        "        ax.barh(i, len(privs), align='center', alpha=0.8)\n",
        "        ax.text(len(privs), i, ' '.join(privs), va='center')\n",
        "\n",
        "    ax.set_xlabel(\"Number of Privileges\")\n",
        "    ax.set_title(\"Principle of Least Privilege\")\n",
        "    plt.tight_layout()\n",
        "    save_plot(fig, \"principle_of_least_privilege.png\")"
      ],
      "metadata": {
        "id": "0HKQTWJdQ11_"
      },
      "execution_count": 13,
      "outputs": []
    },
    {
      "cell_type": "code",
      "source": [
        "def plot_sandboxing():\n",
        "    fig, ax = plt.subplots(figsize=(10, 6))\n",
        "\n",
        "    # Main system\n",
        "    ax.add_patch(Rectangle((0, 0), 8, 6, fill=False))\n",
        "    ax.text(4, 5.5, \"Main System\", ha='center', va='center', fontsize=12)\n",
        "\n",
        "    # Sandbox\n",
        "    ax.add_patch(Rectangle((1, 1), 6, 4, fill=False, linestyle='--'))\n",
        "    ax.text(4, 4.5, \"Sandbox\", ha='center', va='center', fontsize=12)\n",
        "\n",
        "    # Allowed operations\n",
        "    ax.add_patch(Rectangle((2, 2), 2, 2, fill=True, alpha=0.3, color='green'))\n",
        "    ax.text(3, 3, \"Allowed\\nOperations\", ha='center', va='center', fontsize=10)\n",
        "\n",
        "    # Restricted operations\n",
        "    ax.add_patch(Rectangle((5, 2), 2, 2, fill=True, alpha=0.3, color='red'))\n",
        "    ax.text(6, 3, \"Restricted\\nOperations\", ha='center', va='center', fontsize=10)\n",
        "\n",
        "    ax.set_xlim(0, 8)\n",
        "    ax.set_ylim(0, 6)\n",
        "    ax.axis('off')\n",
        "    ax.set_title(\"Sandboxing\")\n",
        "    plt.tight_layout()\n",
        "    save_plot(fig, \"sandboxing.png\")"
      ],
      "metadata": {
        "id": "P58f9WugRsIS"
      },
      "execution_count": 14,
      "outputs": []
    },
    {
      "cell_type": "code",
      "source": [
        "def plot_rbac():\n",
        "    G = nx.Graph()\n",
        "    roles = {\n",
        "        'admin': ['create_user', 'delete_user', 'read_logs'],\n",
        "        'manager': ['read_logs', 'generate_report'],\n",
        "        'employee': ['generate_report']\n",
        "    }\n",
        "    users = {'alice': 'admin', 'bob': 'manager', 'eve': 'employee'}\n",
        "\n",
        "    for user, role in users.items():\n",
        "        G.add_edge(user, role)\n",
        "        for permission in roles[role]:\n",
        "            G.add_edge(role, permission)\n",
        "\n",
        "    pos = nx.spring_layout(G)\n",
        "    fig, ax = plt.subplots(figsize=(12, 8))\n",
        "\n",
        "    nx.draw_networkx_nodes(G, pos, nodelist=users.keys(), node_color='lightblue', node_size=500, ax=ax)\n",
        "    nx.draw_networkx_nodes(G, pos, nodelist=roles.keys(), node_color='lightgreen', node_size=700, ax=ax)\n",
        "    nx.draw_networkx_nodes(G, pos, nodelist=set.union(*map(set, roles.values())), node_color='lightyellow', node_size=600, ax=ax)\n",
        "\n",
        "    nx.draw_networkx_edges(G, pos, ax=ax)\n",
        "    nx.draw_networkx_labels(G, pos, ax=ax)\n",
        "\n",
        "    ax.set_title(\"Role-Based Access Control (RBAC)\")\n",
        "    plt.axis('off')\n",
        "    plt.tight_layout()\n",
        "    save_plot(fig, \"rbac.png\")"
      ],
      "metadata": {
        "id": "9GcaiOeyRs-8"
      },
      "execution_count": 15,
      "outputs": []
    },
    {
      "cell_type": "code",
      "source": [
        "def plot_abac():\n",
        "    users = {\n",
        "        'alice': {'department': 'IT', 'clearance_level': 3},\n",
        "        'bob': {'department': 'HR', 'clearance_level': 2},\n",
        "        'eve': {'department': 'Marketing', 'clearance_level': 1}\n",
        "    }\n",
        "    resources = {\n",
        "        'Financial Database': {'required_department': 'IT', 'required_clearance': 3},\n",
        "        'Employee Records': {'required_department': 'HR', 'required_clearance': 2},\n",
        "        'Marketing Materials': {'required_department': 'Marketing', 'required_clearance': 1}\n",
        "    }\n",
        "\n",
        "    G = nx.Graph()\n",
        "    for user, attrs in users.items():\n",
        "        G.add_node(user, node_type='user')\n",
        "        G.add_node(attrs['department'], node_type='department')\n",
        "        G.add_node(f\"Clearance {attrs['clearance_level']}\", node_type='clearance')\n",
        "        G.add_edge(user, attrs['department'])\n",
        "        G.add_edge(user, f\"Clearance {attrs['clearance_level']}\")\n",
        "\n",
        "    for resource, reqs in resources.items():\n",
        "        G.add_node(resource, node_type='resource')\n",
        "        G.add_edge(resource, reqs['required_department'])\n",
        "        G.add_edge(resource, f\"Clearance {reqs['required_clearance']}\")\n",
        "\n",
        "    pos = nx.spring_layout(G)\n",
        "    fig, ax = plt.subplots(figsize=(12, 8))\n",
        "\n",
        "    node_colors = {'user': 'lightblue', 'department': 'lightgreen', 'clearance': 'lightyellow', 'resource': 'lightpink'}\n",
        "    for node_type, color in node_colors.items():\n",
        "        nx.draw_networkx_nodes(G, pos, nodelist=[n for n, d in G.nodes(data=True) if d.get('node_type') == node_type],\n",
        "                               node_color=color, node_size=700, ax=ax)\n",
        "\n",
        "    nx.draw_networkx_edges(G, pos, ax=ax)\n",
        "    nx.draw_networkx_labels(G, pos, ax=ax)\n",
        "\n",
        "    ax.set_title(\"Attribute-Based Access Control (ABAC)\")\n",
        "    plt.axis('off')\n",
        "    plt.tight_layout()\n",
        "    save_plot(fig, \"abac.png\")"
      ],
      "metadata": {
        "id": "IGdEQtXyRvLE"
      },
      "execution_count": 16,
      "outputs": []
    },
    {
      "cell_type": "code",
      "source": [
        "def save_table(table, filename=\"access_control_table.txt\"):\n",
        "    with open(filename, \"w\") as f:\n",
        "        f.write(str(table))\n",
        "    print(f\"Table saved as {filename}\")"
      ],
      "metadata": {
        "id": "wrdPDikXUArk"
      },
      "execution_count": 17,
      "outputs": []
    },
    {
      "cell_type": "code",
      "source": [
        "def save_plot(fig, filename):\n",
        "    fig.savefig(filename, dpi=300, bbox_inches='tight')\n",
        "    plt.close(fig)\n",
        "    print(f\"Plot saved as {filename}\")"
      ],
      "metadata": {
        "id": "k-Dtydg0UCMU"
      },
      "execution_count": 18,
      "outputs": []
    },
    {
      "cell_type": "code",
      "source": [
        "def main():\n",
        "    results = [\n",
        "        (\"Access Control Matrix\", access_control_matrix()),\n",
        "        (\"Linux Access Control\", linux_access_control()),\n",
        "        (\"Principle of Least Privilege\", principle_of_least_privilege()),\n",
        "        (\"Sandboxing\", sandboxing()),\n",
        "        (\"Role-Based Access Control\", role_based_access_control()),\n",
        "        (\"Attribute-Based Access Control\", attribute_based_access_control())\n",
        "    ]\n",
        "\n",
        "    table = PrettyTable()\n",
        "    table.field_names = [\"Access Control Concept\", \"Result\", \"Explanation\", \"Principle\"]\n",
        "\n",
        "    max_width = 30\n",
        "    table.max_width = max_width\n",
        "    table.align = \"l\"\n",
        "    table.hrules = 1\n",
        "\n",
        "    for concept, result in results:\n",
        "        explanation = get_explanation(concept)\n",
        "        principle = get_principle(concept)\n",
        "\n",
        "        wrapped_concept = \"\\n\".join(textwrap.wrap(concept, max_width))\n",
        "        wrapped_result = \"\\n\".join(textwrap.wrap(result, max_width))\n",
        "        wrapped_explanation = \"\\n\".join(textwrap.wrap(explanation, max_width))\n",
        "        wrapped_principle = \"\\n\".join(textwrap.wrap(principle, max_width))\n",
        "\n",
        "        table.add_row([wrapped_concept, wrapped_result, wrapped_explanation, wrapped_principle])\n",
        "\n",
        "    print(table)\n",
        "    save_table(table)\n",
        "\n",
        "    print(\"\\nGenerating and saving visualizations:\")\n",
        "    plot_access_control_matrix()\n",
        "    plot_linux_access_control()\n",
        "    plot_principle_of_least_privilege()\n",
        "    plot_sandboxing()\n",
        "    plot_rbac()\n",
        "    plot_abac()"
      ],
      "metadata": {
        "id": "F2QANc2uPfLO"
      },
      "execution_count": 19,
      "outputs": []
    },
    {
      "cell_type": "code",
      "source": [
        "if __name__ == \"__main__\":\n",
        "    main()"
      ],
      "metadata": {
        "colab": {
          "base_uri": "https://localhost:8080/"
        },
        "id": "tIZyjogzPgsg",
        "outputId": "066c71aa-21b6-4ca6-8ec8-c3392235679c"
      },
      "execution_count": 20,
      "outputs": [
        {
          "output_type": "stream",
          "name": "stdout",
          "text": [
            "+--------------------------------+--------------------------------+--------------------------------+-----------------------------+\n",
            "| Access Control Concept         | Result                         | Explanation                    | Principle                   |\n",
            "+--------------------------------+--------------------------------+--------------------------------+-----------------------------+\n",
            "| Access Control Matrix          | Alice can read file2; Bob can  | Defines access rights for      | Separation of privilege     |\n",
            "|                                | read file2; Eve cannot read    | subjects (users) to objects    |                             |\n",
            "|                                | file2                          | (files)                        |                             |\n",
            "+--------------------------------+--------------------------------+--------------------------------+-----------------------------+\n",
            "| Linux Access Control           | Alice can write the file; Bob  | Uses file permissions to       | Simplicity and uniformity   |\n",
            "|                                | cannot write the file; Eve     | control read/write/execute     |                             |\n",
            "|                                | cannot write the file          | access                         |                             |\n",
            "+--------------------------------+--------------------------------+--------------------------------+-----------------------------+\n",
            "| Principle of Least Privilege   | Alice can perform write        | Users are given minimum levels | Minimize potential damage   |\n",
            "|                                | action; Bob can perform write  | of access needed for their     |                             |\n",
            "|                                | action; Eve cannot perform     | tasks                          |                             |\n",
            "|                                | write action (least privilege) |                                |                             |\n",
            "+--------------------------------+--------------------------------+--------------------------------+-----------------------------+\n",
            "| Sandboxing                     | Alice: Sandboxing failed:      | Restricts the environment in   | Isolation and containment   |\n",
            "|                                | Restricted module 'os' was     | which certain code can run     |                             |\n",
            "|                                | imported; Bob: Sandboxing      |                                |                             |\n",
            "|                                | failed: Restricted module 'os' |                                |                             |\n",
            "|                                | was imported; Eve: Sandboxing  |                                |                             |\n",
            "|                                | failed: Restricted module 'os' |                                |                             |\n",
            "|                                | was imported                   |                                |                             |\n",
            "+--------------------------------+--------------------------------+--------------------------------+-----------------------------+\n",
            "| Role-Based Access Control      | Alice (role: admin) can        | Access decisions are based on  | Simplify administration     |\n",
            "|                                | perform 'read_logs'; Bob       | roles that users have          |                             |\n",
            "|                                | (role: manager) can perform    |                                |                             |\n",
            "|                                | 'read_logs'; Eve (role:        |                                |                             |\n",
            "|                                | employee) cannot perform       |                                |                             |\n",
            "|                                | 'read_logs'                    |                                |                             |\n",
            "+--------------------------------+--------------------------------+--------------------------------+-----------------------------+\n",
            "| Attribute-Based Access Control | Alice can access Financial     | Access decisions based on      | Fine-grained access control |\n",
            "|                                | Database; Bob cannot access    | attributes of users,           |                             |\n",
            "|                                | Financial Database; Eve cannot | resources, and environment     |                             |\n",
            "|                                | access Financial Database      |                                |                             |\n",
            "+--------------------------------+--------------------------------+--------------------------------+-----------------------------+\n",
            "Table saved as access_control_table.txt\n",
            "\n",
            "Generating and saving visualizations:\n",
            "Plot saved as access_control_matrix.png\n",
            "Plot saved as linux_access_control.png\n",
            "Plot saved as principle_of_least_privilege.png\n",
            "Plot saved as sandboxing.png\n",
            "Plot saved as rbac.png\n",
            "Plot saved as abac.png\n"
          ]
        }
      ]
    }
  ]
}